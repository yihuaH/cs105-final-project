{
 "cells": [
  {
   "cell_type": "markdown",
   "id": "c9ac7a75-5887-4ede-bf71-8bdd547ae0b6",
   "metadata": {},
   "source": [
    "# Final project\n",
    " Films recommend system"
   ]
  },
  {
   "cell_type": "markdown",
   "id": "b16ba2e1-9a4b-4fdd-bc00-bde1e60b439a",
   "metadata": {},
   "source": [
    "1.input data\n"
   ]
  },
  {
   "cell_type": "code",
   "execution_count": 173,
   "id": "21b00adf-dc68-4765-9113-802f3a7d6afc",
   "metadata": {},
   "outputs": [
    {
     "data": {
      "text/html": [
       "<div>\n",
       "<style scoped>\n",
       "    .dataframe tbody tr th:only-of-type {\n",
       "        vertical-align: middle;\n",
       "    }\n",
       "\n",
       "    .dataframe tbody tr th {\n",
       "        vertical-align: top;\n",
       "    }\n",
       "\n",
       "    .dataframe thead th {\n",
       "        text-align: right;\n",
       "    }\n",
       "</style>\n",
       "<table border=\"1\" class=\"dataframe\">\n",
       "  <thead>\n",
       "    <tr style=\"text-align: right;\">\n",
       "      <th></th>\n",
       "      <th>title</th>\n",
       "      <th>genres</th>\n",
       "      <th>userId</th>\n",
       "      <th>rating</th>\n",
       "      <th>tag</th>\n",
       "    </tr>\n",
       "    <tr>\n",
       "      <th>movieId</th>\n",
       "      <th></th>\n",
       "      <th></th>\n",
       "      <th></th>\n",
       "      <th></th>\n",
       "      <th></th>\n",
       "    </tr>\n",
       "  </thead>\n",
       "  <tbody>\n",
       "    <tr>\n",
       "      <th>184931</th>\n",
       "      <td>Death Wish (2018)</td>\n",
       "      <td>Action|Crime|Drama|Thriller</td>\n",
       "      <td>514.0</td>\n",
       "      <td>4.0</td>\n",
       "      <td>NaN</td>\n",
       "    </tr>\n",
       "  </tbody>\n",
       "</table>\n",
       "</div>"
      ],
      "text/plain": [
       "                     title                       genres  userId  rating  tag\n",
       "movieId                                                                     \n",
       "184931   Death Wish (2018)  Action|Crime|Drama|Thriller   514.0     4.0  NaN"
      ]
     },
     "execution_count": 173,
     "metadata": {},
     "output_type": "execute_result"
    }
   ],
   "source": [
    "import pandas as pd\n",
    "import numpy as np\n",
    "\n",
    "# read from csv file\n",
    "movies = pd.read_csv(\"movies.csv\")\n",
    "ratings = pd.read_csv(\"ratings.csv\")\n",
    "tags = pd.read_csv(\"tags.csv\")\n",
    "\n",
    "#set index as movie id \n",
    "ratings.set_index(['movieId'], inplace = True)\n",
    "movies.set_index(['movieId'], inplace = True)\n",
    "tags.set_index(['movieId'], inplace = True)\n",
    "\n",
    "#drop the timestamp column\n",
    "ratings.drop(columns = 'timestamp', inplace = True)\n",
    "tags.drop(columns = 'timestamp', inplace = True)\n",
    "\n",
    "#combine the three dataframe\n",
    "ratings = ratings.combine_first(movies) \n",
    "df = ratings.combine_first(tags) \n",
    "\n",
    "order = ['title', 'genres', 'userId', 'rating', 'tag']\n",
    "df = df[order]\n",
    "#test\n",
    "df.loc[df.index==184931]\n",
    "\n",
    "\n"
   ]
  },
  {
   "cell_type": "code",
   "execution_count": null,
   "id": "b7feb02f-81b2-4a66-a3f4-cfa6e24d27f1",
   "metadata": {},
   "outputs": [],
   "source": []
  },
  {
   "cell_type": "code",
   "execution_count": null,
   "id": "5861e006-3aa9-440c-bde0-43cdbaf35d16",
   "metadata": {},
   "outputs": [],
   "source": []
  }
 ],
 "metadata": {
  "kernelspec": {
   "display_name": "Python 3",
   "language": "python",
   "name": "python3"
  },
  "language_info": {
   "codemirror_mode": {
    "name": "ipython",
    "version": 3
   },
   "file_extension": ".py",
   "mimetype": "text/x-python",
   "name": "python",
   "nbconvert_exporter": "python",
   "pygments_lexer": "ipython3",
   "version": "3.8.8"
  }
 },
 "nbformat": 4,
 "nbformat_minor": 5
}
