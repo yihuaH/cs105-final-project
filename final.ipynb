{
 "cells": [
  {
   "cell_type": "markdown",
   "id": "c9ac7a75-5887-4ede-bf71-8bdd547ae0b6",
   "metadata": {},
   "source": [
    "# Final project\n",
    " Films recommend system"
   ]
  },
  {
   "cell_type": "markdown",
   "id": "b16ba2e1-9a4b-4fdd-bc00-bde1e60b439a",
   "metadata": {},
   "source": [
    "1.input data\n"
   ]
  },
  {
   "cell_type": "code",
   "execution_count": 10,
   "id": "21b00adf-dc68-4765-9113-802f3a7d6afc",
   "metadata": {},
   "outputs": [
    {
     "name": "stdout",
     "output_type": "stream",
     "text": [
      "                     title                       genres  userId  rating\n",
      "movieId                                                                \n",
      "184931   Death Wish (2018)  Action|Crime|Drama|Thriller   514.0     4.0\n",
      "                     title                       genres  userId  tag\n",
      "movieId                                                             \n",
      "184931   Death Wish (2018)  Action|Crime|Drama|Thriller     NaN  NaN\n"
     ]
    },
    {
     "ename": "KeyError",
     "evalue": "'Action'",
     "output_type": "error",
     "traceback": [
      "\u001b[1;31m---------------------------------------------------------------------------\u001b[0m",
      "\u001b[1;31mKeyError\u001b[0m                                  Traceback (most recent call last)",
      "\u001b[1;32mI:\\UCR\\anaconda\\lib\\site-packages\\pandas\\core\\indexes\\base.py\u001b[0m in \u001b[0;36mget_loc\u001b[1;34m(self, key, method, tolerance)\u001b[0m\n\u001b[0;32m   3079\u001b[0m             \u001b[1;32mtry\u001b[0m\u001b[1;33m:\u001b[0m\u001b[1;33m\u001b[0m\u001b[1;33m\u001b[0m\u001b[0m\n\u001b[1;32m-> 3080\u001b[1;33m                 \u001b[1;32mreturn\u001b[0m \u001b[0mself\u001b[0m\u001b[1;33m.\u001b[0m\u001b[0m_engine\u001b[0m\u001b[1;33m.\u001b[0m\u001b[0mget_loc\u001b[0m\u001b[1;33m(\u001b[0m\u001b[0mcasted_key\u001b[0m\u001b[1;33m)\u001b[0m\u001b[1;33m\u001b[0m\u001b[1;33m\u001b[0m\u001b[0m\n\u001b[0m\u001b[0;32m   3081\u001b[0m             \u001b[1;32mexcept\u001b[0m \u001b[0mKeyError\u001b[0m \u001b[1;32mas\u001b[0m \u001b[0merr\u001b[0m\u001b[1;33m:\u001b[0m\u001b[1;33m\u001b[0m\u001b[1;33m\u001b[0m\u001b[0m\n",
      "\u001b[1;32mpandas\\_libs\\index.pyx\u001b[0m in \u001b[0;36mpandas._libs.index.IndexEngine.get_loc\u001b[1;34m()\u001b[0m\n",
      "\u001b[1;32mpandas\\_libs\\index.pyx\u001b[0m in \u001b[0;36mpandas._libs.index.IndexEngine.get_loc\u001b[1;34m()\u001b[0m\n",
      "\u001b[1;32mpandas\\_libs\\hashtable_class_helper.pxi\u001b[0m in \u001b[0;36mpandas._libs.hashtable.PyObjectHashTable.get_item\u001b[1;34m()\u001b[0m\n",
      "\u001b[1;32mpandas\\_libs\\hashtable_class_helper.pxi\u001b[0m in \u001b[0;36mpandas._libs.hashtable.PyObjectHashTable.get_item\u001b[1;34m()\u001b[0m\n",
      "\u001b[1;31mKeyError\u001b[0m: 'Action'",
      "\nThe above exception was the direct cause of the following exception:\n",
      "\u001b[1;31mKeyError\u001b[0m                                  Traceback (most recent call last)",
      "\u001b[1;32m<ipython-input-10-872ff41453bb>\u001b[0m in \u001b[0;36m<module>\u001b[1;34m\u001b[0m\n\u001b[0;32m     48\u001b[0m \u001b[0mprint\u001b[0m\u001b[1;33m(\u001b[0m\u001b[0mratings\u001b[0m\u001b[1;33m.\u001b[0m\u001b[0mloc\u001b[0m\u001b[1;33m[\u001b[0m\u001b[0mratings\u001b[0m\u001b[1;33m.\u001b[0m\u001b[0mindex\u001b[0m\u001b[1;33m==\u001b[0m\u001b[1;36m184931\u001b[0m\u001b[1;33m]\u001b[0m\u001b[1;33m)\u001b[0m\u001b[1;33m\u001b[0m\u001b[1;33m\u001b[0m\u001b[0m\n\u001b[0;32m     49\u001b[0m \u001b[0mprint\u001b[0m\u001b[1;33m(\u001b[0m\u001b[0mtags\u001b[0m\u001b[1;33m.\u001b[0m\u001b[0mloc\u001b[0m\u001b[1;33m[\u001b[0m\u001b[0mtags\u001b[0m\u001b[1;33m.\u001b[0m\u001b[0mindex\u001b[0m\u001b[1;33m==\u001b[0m\u001b[1;36m184931\u001b[0m\u001b[1;33m]\u001b[0m\u001b[1;33m)\u001b[0m\u001b[1;33m\u001b[0m\u001b[1;33m\u001b[0m\u001b[0m\n\u001b[1;32m---> 50\u001b[1;33m \u001b[0mratings\u001b[0m\u001b[1;33m[\u001b[0m\u001b[1;34m'Action'\u001b[0m\u001b[1;33m]\u001b[0m\u001b[1;33m\u001b[0m\u001b[1;33m\u001b[0m\u001b[0m\n\u001b[0m\u001b[0;32m     51\u001b[0m \u001b[1;33m\u001b[0m\u001b[0m\n",
      "\u001b[1;32mI:\\UCR\\anaconda\\lib\\site-packages\\pandas\\core\\frame.py\u001b[0m in \u001b[0;36m__getitem__\u001b[1;34m(self, key)\u001b[0m\n\u001b[0;32m   3022\u001b[0m             \u001b[1;32mif\u001b[0m \u001b[0mself\u001b[0m\u001b[1;33m.\u001b[0m\u001b[0mcolumns\u001b[0m\u001b[1;33m.\u001b[0m\u001b[0mnlevels\u001b[0m \u001b[1;33m>\u001b[0m \u001b[1;36m1\u001b[0m\u001b[1;33m:\u001b[0m\u001b[1;33m\u001b[0m\u001b[1;33m\u001b[0m\u001b[0m\n\u001b[0;32m   3023\u001b[0m                 \u001b[1;32mreturn\u001b[0m \u001b[0mself\u001b[0m\u001b[1;33m.\u001b[0m\u001b[0m_getitem_multilevel\u001b[0m\u001b[1;33m(\u001b[0m\u001b[0mkey\u001b[0m\u001b[1;33m)\u001b[0m\u001b[1;33m\u001b[0m\u001b[1;33m\u001b[0m\u001b[0m\n\u001b[1;32m-> 3024\u001b[1;33m             \u001b[0mindexer\u001b[0m \u001b[1;33m=\u001b[0m \u001b[0mself\u001b[0m\u001b[1;33m.\u001b[0m\u001b[0mcolumns\u001b[0m\u001b[1;33m.\u001b[0m\u001b[0mget_loc\u001b[0m\u001b[1;33m(\u001b[0m\u001b[0mkey\u001b[0m\u001b[1;33m)\u001b[0m\u001b[1;33m\u001b[0m\u001b[1;33m\u001b[0m\u001b[0m\n\u001b[0m\u001b[0;32m   3025\u001b[0m             \u001b[1;32mif\u001b[0m \u001b[0mis_integer\u001b[0m\u001b[1;33m(\u001b[0m\u001b[0mindexer\u001b[0m\u001b[1;33m)\u001b[0m\u001b[1;33m:\u001b[0m\u001b[1;33m\u001b[0m\u001b[1;33m\u001b[0m\u001b[0m\n\u001b[0;32m   3026\u001b[0m                 \u001b[0mindexer\u001b[0m \u001b[1;33m=\u001b[0m \u001b[1;33m[\u001b[0m\u001b[0mindexer\u001b[0m\u001b[1;33m]\u001b[0m\u001b[1;33m\u001b[0m\u001b[1;33m\u001b[0m\u001b[0m\n",
      "\u001b[1;32mI:\\UCR\\anaconda\\lib\\site-packages\\pandas\\core\\indexes\\base.py\u001b[0m in \u001b[0;36mget_loc\u001b[1;34m(self, key, method, tolerance)\u001b[0m\n\u001b[0;32m   3080\u001b[0m                 \u001b[1;32mreturn\u001b[0m \u001b[0mself\u001b[0m\u001b[1;33m.\u001b[0m\u001b[0m_engine\u001b[0m\u001b[1;33m.\u001b[0m\u001b[0mget_loc\u001b[0m\u001b[1;33m(\u001b[0m\u001b[0mcasted_key\u001b[0m\u001b[1;33m)\u001b[0m\u001b[1;33m\u001b[0m\u001b[1;33m\u001b[0m\u001b[0m\n\u001b[0;32m   3081\u001b[0m             \u001b[1;32mexcept\u001b[0m \u001b[0mKeyError\u001b[0m \u001b[1;32mas\u001b[0m \u001b[0merr\u001b[0m\u001b[1;33m:\u001b[0m\u001b[1;33m\u001b[0m\u001b[1;33m\u001b[0m\u001b[0m\n\u001b[1;32m-> 3082\u001b[1;33m                 \u001b[1;32mraise\u001b[0m \u001b[0mKeyError\u001b[0m\u001b[1;33m(\u001b[0m\u001b[0mkey\u001b[0m\u001b[1;33m)\u001b[0m \u001b[1;32mfrom\u001b[0m \u001b[0merr\u001b[0m\u001b[1;33m\u001b[0m\u001b[1;33m\u001b[0m\u001b[0m\n\u001b[0m\u001b[0;32m   3083\u001b[0m \u001b[1;33m\u001b[0m\u001b[0m\n\u001b[0;32m   3084\u001b[0m         \u001b[1;32mif\u001b[0m \u001b[0mtolerance\u001b[0m \u001b[1;32mis\u001b[0m \u001b[1;32mnot\u001b[0m \u001b[1;32mNone\u001b[0m\u001b[1;33m:\u001b[0m\u001b[1;33m\u001b[0m\u001b[1;33m\u001b[0m\u001b[0m\n",
      "\u001b[1;31mKeyError\u001b[0m: 'Action'"
     ]
    }
   ],
   "source": [
    "import pandas as pd\n",
    "import numpy as np\n",
    "\n",
    "# read from csv file\n",
    "movies = pd.read_csv(\"movies.csv\")\n",
    "ratings = pd.read_csv(\"ratings.csv\")\n",
    "tags = pd.read_csv(\"tags.csv\")\n",
    "\n",
    "#set index as movie id \n",
    "ratings.set_index(['movieId'], inplace = True)\n",
    "movies.set_index(['movieId'], inplace = True)\n",
    "tags.set_index(['movieId'], inplace = True)\n",
    "\n",
    "movies['Action'] = movies.apply(lambda x: 1 if 'Action' in x.genres else 0, axis = 1)\n",
    "movies['Adventure'] = movies.apply(lambda x: 1 if 'Adventure' in x.genres else 0, axis = 1)\n",
    "movies['Animation'] = movies.apply(lambda x: 1 if 'Animation' in x.genres else 0, axis = 1)\n",
    "movies['Children'] = movies.apply(lambda x: 1 if 'Children' in x.genres else 0, axis = 1)\n",
    "movies['Comedy'] = movies.apply(lambda x: 1 if 'Comedy' in x.genres else 0, axis = 1)\n",
    "movies['Crime'] = movies.apply(lambda x: 1 if 'Crime' in x.genres else 0, axis = 1)\n",
    "movies['Documentary'] = movies.apply(lambda x: 1 if 'Documentary' in x.genres else 0, axis = 1)\n",
    "movies['Drama'] = movies.apply(lambda x: 1 if 'Drama' in x.genres else 0, axis = 1)\n",
    "movies['Fantasy'] = movies.apply(lambda x: 1 if 'Fantasy' in x.genres else 0, axis = 1)\n",
    "movies['Film-Noir'] = movies.apply(lambda x: 1 if 'Film-Noir' in x.genres else 0, axis = 1)\n",
    "movies['Horror'] = movies.apply(lambda x: 1 if 'Horror' in x.genres else 0, axis = 1)\n",
    "movies['Musical'] = movies.apply(lambda x: 1 if 'Musical' in x.genres else 0, axis = 1)\n",
    "movies['Mystery'] = movies.apply(lambda x: 1 if 'Mystery' in x.genres else 0, axis = 1)\n",
    "movies['Romance'] = movies.apply(lambda x: 1 if 'Romance' in x.genres else 0, axis = 1)\n",
    "movies['Sci-Fi'] = movies.apply(lambda x: 1 if 'Sci-Fi' in x.genres else 0, axis = 1)\n",
    "movies['Thriller'] = movies.apply(lambda x: 1 if 'Thriller' in x.genres else 0, axis = 1)\n",
    "movies['War'] = movies.apply(lambda x: 1 if 'War' in x.genres else 0, axis = 1)\n",
    "movies['Western'] = movies.apply(lambda x: 1 if 'Western' in x.genres else 0, axis = 1)\n",
    "movies['Non'] = movies.apply(lambda x: 1 if 'no genres listed' in x.genres else 0, axis = 1)\n",
    "\n",
    "\n",
    "#drop the timestamp column\n",
    "ratings.drop(columns = 'timestamp', inplace = True)\n",
    "tags.drop(columns = 'timestamp', inplace = True)\n",
    "\n",
    "#combine the three dataframe\n",
    "ratings = ratings.combine_first(movies) \n",
    "tags = tags.combine_first(movies)\n",
    "\n",
    "ratings_order = ['title', 'genres', 'userId', 'rating']\n",
    "ratings = ratings[ratings_order]\n",
    "tags_order = ['title', 'genres', 'userId', 'tag']\n",
    "tags = tags[tags_order]\n",
    "\n",
    "#test\n",
    "print(ratings.loc[ratings.index==184931])\n",
    "print(tags.loc[tags.index==184931])\n",
    "movies\n",
    "\n",
    "\n"
   ]
  },
  {
   "cell_type": "code",
   "execution_count": null,
   "id": "b7feb02f-81b2-4a66-a3f4-cfa6e24d27f1",
   "metadata": {},
   "outputs": [],
   "source": []
  },
  {
   "cell_type": "code",
   "execution_count": null,
   "id": "5861e006-3aa9-440c-bde0-43cdbaf35d16",
   "metadata": {},
   "outputs": [],
   "source": []
  }
 ],
 "metadata": {
  "kernelspec": {
   "display_name": "Python 3",
   "language": "python",
   "name": "python3"
  },
  "language_info": {
   "codemirror_mode": {
    "name": "ipython",
    "version": 3
   },
   "file_extension": ".py",
   "mimetype": "text/x-python",
   "name": "python",
   "nbconvert_exporter": "python",
   "pygments_lexer": "ipython3",
   "version": "3.8.8"
  }
 },
 "nbformat": 4,
 "nbformat_minor": 5
}
