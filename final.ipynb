{
 "cells": [
  {
   "cell_type": "markdown",
   "id": "c9ac7a75-5887-4ede-bf71-8bdd547ae0b6",
   "metadata": {},
   "source": [
    "# Final project\n",
    " Films recommend system"
   ]
  },
  {
   "cell_type": "markdown",
   "id": "b16ba2e1-9a4b-4fdd-bc00-bde1e60b439a",
   "metadata": {},
   "source": [
    "1.input data\n"
   ]
  },
  {
   "cell_type": "code",
   "execution_count": 6,
   "id": "21b00adf-dc68-4765-9113-802f3a7d6afc",
   "metadata": {},
   "outputs": [
    {
     "name": "stdout",
     "output_type": "stream",
     "text": [
      "                     title                       genres  userId  rating\n",
      "movieId                                                                \n",
      "184931   Death Wish (2018)  Action|Crime|Drama|Thriller   514.0     4.0\n",
      "                     title                       genres  userId  tag\n",
      "movieId                                                             \n",
      "184931   Death Wish (2018)  Action|Crime|Drama|Thriller     NaN  NaN\n"
     ]
    }
   ],
   "source": [
    "import pandas as pd\n",
    "import numpy as np\n",
    "\n",
    "# read from csv file\n",
    "movies = pd.read_csv(\"movies.csv\")\n",
    "ratings = pd.read_csv(\"ratings.csv\")\n",
    "tags = pd.read_csv(\"tags.csv\")\n",
    "\n",
    "#set index as movie id \n",
    "ratings.set_index(['movieId'], inplace = True)\n",
    "movies.set_index(['movieId'], inplace = True)\n",
    "tags.set_index(['movieId'], inplace = True)\n",
    "\n",
    "#drop the timestamp column\n",
    "ratings.drop(columns = 'timestamp', inplace = True)\n",
    "tags.drop(columns = 'timestamp', inplace = True)\n",
    "\n",
    "#combine the three dataframe\n",
    "ratings = ratings.combine_first(movies) \n",
    "tags = tags.combine_first(movies)\n",
    "\n",
    "ratings_order = ['title', 'genres', 'userId', 'rating']\n",
    "ratings = ratings[ratings_order]\n",
    "tags_order = ['title', 'genres', 'userId', 'tag']\n",
    "tags = tags[tags_order]\n",
    "\n",
    "#test\n",
    "print(ratings.loc[ratings.index==184931])\n",
    "print(tags.loc[tags.index==184931])\n",
    "\n",
    "\n"
   ]
  },
  {
   "cell_type": "code",
   "execution_count": null,
   "id": "b7feb02f-81b2-4a66-a3f4-cfa6e24d27f1",
   "metadata": {},
   "outputs": [],
   "source": []
  },
  {
   "cell_type": "code",
   "execution_count": null,
   "id": "5861e006-3aa9-440c-bde0-43cdbaf35d16",
   "metadata": {},
   "outputs": [],
   "source": []
  }
 ],
 "metadata": {
  "kernelspec": {
   "display_name": "Python 3",
   "language": "python",
   "name": "python3"
  },
  "language_info": {
   "codemirror_mode": {
    "name": "ipython",
    "version": 3
   },
   "file_extension": ".py",
   "mimetype": "text/x-python",
   "name": "python",
   "nbconvert_exporter": "python",
   "pygments_lexer": "ipython3",
   "version": "3.8.8"
  }
 },
 "nbformat": 4,
 "nbformat_minor": 5
}
