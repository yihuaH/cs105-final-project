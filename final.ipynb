{
 "cells": [
  {
   "cell_type": "markdown",
   "id": "c9ac7a75-5887-4ede-bf71-8bdd547ae0b6",
   "metadata": {},
   "source": [
    "# Final project\n",
    " Films recommend system"
   ]
  },
  {
   "cell_type": "code",
   "execution_count": null,
   "id": "c69a3132-f99a-44a2-9a38-d1a7701fd9ca",
   "metadata": {},
   "outputs": [],
   "source": []
  }
 ],
 "metadata": {
  "kernelspec": {
   "display_name": "Python 3",
   "language": "python",
   "name": "python3"
  },
  "language_info": {
   "codemirror_mode": {
    "name": "ipython",
    "version": 3
   },
   "file_extension": ".py",
   "mimetype": "text/x-python",
   "name": "python",
   "nbconvert_exporter": "python",
   "pygments_lexer": "ipython3",
   "version": "3.8.8"
  }
 },
 "nbformat": 4,
 "nbformat_minor": 5
}
